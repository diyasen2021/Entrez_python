{
  "cells": [
    {
      "cell_type": "code",
      "execution_count": 1,
      "metadata": {
        "colab": {
          "base_uri": "https://localhost:8080/"
        },
        "id": "Kxt3d56I09Y5",
        "outputId": "2c4cf3d8-9c7f-4c0c-a7d4-ac0a6da746ef"
      },
      "outputs": [
        {
          "name": "stdout",
          "output_type": "stream",
          "text": [
            "Collecting Biopython\n",
            "  Downloading biopython-1.84-cp310-cp310-manylinux_2_17_x86_64.manylinux2014_x86_64.whl.metadata (12 kB)\n",
            "Requirement already satisfied: numpy in /usr/local/lib/python3.10/dist-packages (from Biopython) (1.26.4)\n",
            "Downloading biopython-1.84-cp310-cp310-manylinux_2_17_x86_64.manylinux2014_x86_64.whl (3.2 MB)\n",
            "\u001b[2K   \u001b[90m━━━━━━━━━━━━━━━━━━━━━━━━━━━━━━━━━━━━━━━━\u001b[0m \u001b[32m3.2/3.2 MB\u001b[0m \u001b[31m14.8 MB/s\u001b[0m eta \u001b[36m0:00:00\u001b[0m\n",
            "\u001b[?25hInstalling collected packages: Biopython\n",
            "Successfully installed Biopython-1.84\n"
          ]
        }
      ],
      "source": [
        "!pip install Biopython"
      ]
    },
    {
      "cell_type": "markdown",
      "metadata": {
        "id": "Vqnrlu1mExRy"
      },
      "source": []
    },
    {
      "cell_type": "code",
      "execution_count": 5,
      "metadata": {
        "colab": {
          "base_uri": "https://localhost:8080/"
        },
        "id": "HhZ7PwfyXrgu",
        "outputId": "a6282f0b-0703-4f5b-bf2d-982d58b7b4c2"
      },
      "outputs": [
        {
          "name": "stdout",
          "output_type": "stream",
          "text": [
            "Total number of IDs returned: 2371\n",
            "Total number of articles: 2371\n",
            "Fetching 50 IDs\n",
            "Fetching 50 IDs\n",
            "Fetching 50 IDs\n",
            "Fetching 50 IDs\n",
            "Fetching 50 IDs\n",
            "Fetching 50 IDs\n",
            "Fetching 50 IDs\n",
            "Fetching 50 IDs\n",
            "Fetching 50 IDs\n",
            "Fetching 50 IDs\n",
            "Fetching 50 IDs\n",
            "Fetching 50 IDs\n",
            "Fetching 50 IDs\n",
            "Fetching 50 IDs\n",
            "Fetching 50 IDs\n",
            "Fetching 50 IDs\n",
            "Fetching 50 IDs\n",
            "Fetching 50 IDs\n",
            "Fetching 50 IDs\n",
            "Fetching 50 IDs\n",
            "Fetching 50 IDs\n",
            "Fetching 50 IDs\n",
            "Fetching 50 IDs\n",
            "Fetching 50 IDs\n",
            "Fetching 50 IDs\n",
            "Fetching 50 IDs\n",
            "Fetching 50 IDs\n",
            "Fetching 50 IDs\n",
            "Fetching 50 IDs\n",
            "Fetching 50 IDs\n",
            "Fetching 50 IDs\n",
            "Fetching 50 IDs\n",
            "Fetching 50 IDs\n",
            "Fetching 50 IDs\n",
            "Fetching 50 IDs\n",
            "Fetching 50 IDs\n",
            "Fetching 50 IDs\n",
            "Fetching 50 IDs\n",
            "Fetching 50 IDs\n",
            "Fetching 50 IDs\n",
            "Fetching 50 IDs\n",
            "Fetching 50 IDs\n",
            "Fetching 50 IDs\n",
            "Fetching 50 IDs\n",
            "Fetching 50 IDs\n",
            "Fetching 50 IDs\n",
            "Fetching 50 IDs\n",
            "Fetching 21 IDs\n",
            "                                                  Title  \\\n",
            "0     Understanding the virulence of Streptococcus s...   \n",
            "1     Streptococcus suis biofilm: regulation, drug-r...   \n",
            "2     Critical Streptococcus suis Virulence Factors:...   \n",
            "3     Streptococcus suis: a re-emerging pathogen ass...   \n",
            "4     Streptococcus suis infection: an emerging/reem...   \n",
            "...                                                 ...   \n",
            "2366  How Long Does a Neutrophil Live?-The Effect of...   \n",
            "2367  Carbonic anhydrase inhibition/activation: trip...   \n",
            "2368  Inhibition of bacterial carbonic anhydrases an...   \n",
            "2369  Binding of mannan-binding protein to various b...   \n",
            "2370  Scabies mites alter the skin microbiome and pr...   \n",
            "\n",
            "                                               Abstract  \n",
            "0     Streptococcus suis is a major swine pathogen w...  \n",
            "1     Streptococcus suis (S. suis) is a major swine ...  \n",
            "2     Streptococcus suis is an important swine patho...  \n",
            "3     <i>Streptococcus suis</i> is a re-emerging zoo...  \n",
            "4     Streptococcus suis (S. suis) is a family of pa...  \n",
            "...                                                 ...  \n",
            "2366  Neutrophils are important effector cells of th...  \n",
            "2367  Carbonic anhydrases (CAs, EC 4.2.1.1) are meta...  \n",
            "2368  Zinc-containing enzymes, such as carbonic anhy...  \n",
            "2369  Mannan-binding protein (MBP), a calcium-depend...  \n",
            "2370  The resident skin microbiota plays an importan...  \n",
            "\n",
            "[2371 rows x 2 columns]\n"
          ]
        }
      ],
      "source": [
        "import time\n",
        "from Bio import Entrez\n",
        "import pandas as pd\n",
        "import urllib.error\n",
        "\n",
        "# Provide your email address to the Entrez system\n",
        "Entrez.email = \"youremail@example.com\"\n",
        "\n",
        "def esearch(query, retmax=10000):\n",
        "    \"\"\"Fetch all IDs matching the query in a single search.\"\"\"\n",
        "    handle = Entrez.esearch(db='pubmed',\n",
        "                            sort='relevance',\n",
        "                            retmax=retmax,  # Fetch maximum number of results\n",
        "                            retmode='xml',\n",
        "                            term=query)\n",
        "    results = Entrez.read(handle)\n",
        "    return results\n",
        "\n",
        "def efetch(id_list):\n",
        "    \"\"\"Fetch details of articles using a list of PubMed IDs.\"\"\"\n",
        "    print(f\"Fetching {len(id_list)} IDs\")\n",
        "    ids = ','.join(id_list)\n",
        "    handle = Entrez.efetch(db='pubmed',\n",
        "                           retmode='xml',\n",
        "                           id=ids)\n",
        "    results = Entrez.read(handle)\n",
        "    return results\n",
        "\n",
        "\n",
        "\n",
        "if __name__ == '__main__':\n",
        "    term = \"CRISPR gene editing\"\n",
        "\n",
        "    # Initialize variables\n",
        "    title_list, abstract_list = [], []\n",
        "    batch_size = 50  # Fetch articles in batches of XX\n",
        "    sleep_time = 10  # Sleep for 10 seconds between requests\n",
        "    max_retries = 5  # Maximum number of retries for a failed batch\n",
        "\n",
        "    # Single search to get all PubMed IDs for the query\n",
        "    initial_results = esearch(term)\n",
        "    total_count = int(initial_results['Count'])\n",
        "    id_list = initial_results['IdList']\n",
        "    print(f\"Total number of articles: {total_count}\")\n",
        "\n",
        "    # Process the list of IDs in batches using efetch\n",
        "    for start in range(0, len(id_list), batch_size):\n",
        "        batch_ids = id_list[start:start+batch_size]  # Get a chunk of IDs\n",
        "\n",
        "        retries = 0\n",
        "        while retries < max_retries:\n",
        "            try:\n",
        "                # Sleep before making the efetch request to avoid rate limits\n",
        "                time.sleep(sleep_time)\n",
        "\n",
        "                # Fetch article details for the current batch\n",
        "                papers = efetch(batch_ids)\n",
        "\n",
        "                # Process the fetched papers\n",
        "                for i, paper in enumerate(papers['PubmedArticle']):\n",
        "                    try:\n",
        "                        title = paper['MedlineCitation']['Article']['ArticleTitle']\n",
        "                        title_list.append(title)\n",
        "                    except:\n",
        "                        title_list.append(\"NA\")\n",
        "                    try:\n",
        "                        abstract = paper['MedlineCitation']['Article']['Abstract']['AbstractText'][0]\n",
        "                        abstract_list.append(abstract)\n",
        "                    except:\n",
        "                        abstract_list.append(\"NA\")\n",
        "\n",
        "                # Break out of the retry loop if the batch is successful\n",
        "                break\n",
        "\n",
        "            except urllib.error.HTTPError as e:\n",
        "                # Handle HTTP error and retry the batch\n",
        "                retries += 1\n",
        "                print(f\"HTTP error occurred: {e}, retrying... ({retries}/{max_retries})\")\n",
        "                if retries == max_retries:\n",
        "                    print(f\"Max retries reached for batch {batch_ids}. Skipping this batch.\")\n",
        "\n",
        "    # Create a DataFrame from the collected titles and abstracts\n",
        "    data = list(zip(title_list, abstract_list))\n",
        "    df = pd.DataFrame(data, columns=['Title', 'Abstract'])\n",
        "    df.to_csv('pubmed_articles.csv', index=False)\n",
        "\n",
        "    # Print the DataFrame to check the result\n",
        "    print(df)\n"
      ]
    },
    {
      "cell_type": "markdown",
      "metadata": {
        "id": "59r0WRcQXrVg"
      },
      "source": []
    },
    {
      "cell_type": "code",
      "execution_count": null,
      "metadata": {
        "id": "WQsQZJ1Wduaw"
      },
      "outputs": [],
      "source": []
    }
  ],
  "metadata": {
    "colab": {
      "provenance": []
    },
    "kernelspec": {
      "display_name": "Python 3",
      "name": "python3"
    },
    "language_info": {
      "name": "python"
    }
  },
  "nbformat": 4,
  "nbformat_minor": 0
}
